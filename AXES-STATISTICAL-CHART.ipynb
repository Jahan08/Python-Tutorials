{
 "cells": [
  {
   "cell_type": "markdown",
   "id": "e44c1d77",
   "metadata": {},
   "source": [
    "# AXES STATISTICAL CHARTS"
   ]
  },
  {
   "cell_type": "markdown",
   "id": "3dcbc361",
   "metadata": {},
   "source": [
    "1. Autocorrelation plots"
   ]
  },
  {
   "cell_type": "markdown",
   "id": "4332a0d7",
   "metadata": {},
   "source": [
    "Autocorrelation plots are commonly used tool for checking randomness in a data set. \n",
    "This randomness is ascertained by computing autocorrelation for \n",
    "data values at varying time lags. It shows the properties of a type of \n",
    "data known as a time series. \n",
    "These plots are available in most general-purpose statistical software programs. \n",
    "It can be plotted using the pandas.plotting.autocorrelation_plot()."
   ]
  },
  {
   "cell_type": "markdown",
   "id": "29b3669a",
   "metadata": {},
   "source": [
    "# 2. KDE plots"
   ]
  },
  {
   "cell_type": "code",
   "execution_count": 2,
   "id": "c2971eda",
   "metadata": {},
   "outputs": [],
   "source": [
    "import pandas as pd\n",
    "import matplotlib.pyplot as plt"
   ]
  },
  {
   "cell_type": "code",
   "execution_count": 3,
   "id": "11b29447",
   "metadata": {},
   "outputs": [
    {
     "data": {
      "text/html": [
       "<div>\n",
       "<style scoped>\n",
       "    .dataframe tbody tr th:only-of-type {\n",
       "        vertical-align: middle;\n",
       "    }\n",
       "\n",
       "    .dataframe tbody tr th {\n",
       "        vertical-align: top;\n",
       "    }\n",
       "\n",
       "    .dataframe thead th {\n",
       "        text-align: right;\n",
       "    }\n",
       "</style>\n",
       "<table border=\"1\" class=\"dataframe\">\n",
       "  <thead>\n",
       "    <tr style=\"text-align: right;\">\n",
       "      <th></th>\n",
       "      <th>Date</th>\n",
       "      <th>State</th>\n",
       "      <th>HighQ</th>\n",
       "      <th>MedQ</th>\n",
       "      <th>LowQ</th>\n",
       "    </tr>\n",
       "  </thead>\n",
       "  <tbody>\n",
       "    <tr>\n",
       "      <th>0</th>\n",
       "      <td>2014-01-01</td>\n",
       "      <td>Alabama</td>\n",
       "      <td>339.06</td>\n",
       "      <td>198.64</td>\n",
       "      <td>149.49</td>\n",
       "    </tr>\n",
       "    <tr>\n",
       "      <th>1</th>\n",
       "      <td>2014-01-01</td>\n",
       "      <td>Alaska</td>\n",
       "      <td>288.75</td>\n",
       "      <td>260.60</td>\n",
       "      <td>388.58</td>\n",
       "    </tr>\n",
       "    <tr>\n",
       "      <th>2</th>\n",
       "      <td>2014-01-01</td>\n",
       "      <td>Arizona</td>\n",
       "      <td>303.31</td>\n",
       "      <td>209.35</td>\n",
       "      <td>189.45</td>\n",
       "    </tr>\n",
       "    <tr>\n",
       "      <th>3</th>\n",
       "      <td>2014-01-01</td>\n",
       "      <td>Arkansas</td>\n",
       "      <td>361.85</td>\n",
       "      <td>185.62</td>\n",
       "      <td>125.87</td>\n",
       "    </tr>\n",
       "    <tr>\n",
       "      <th>4</th>\n",
       "      <td>2014-01-01</td>\n",
       "      <td>California</td>\n",
       "      <td>248.78</td>\n",
       "      <td>193.56</td>\n",
       "      <td>192.92</td>\n",
       "    </tr>\n",
       "  </tbody>\n",
       "</table>\n",
       "</div>"
      ],
      "text/plain": [
       "         Date       State   HighQ    MedQ    LowQ\n",
       "0  2014-01-01     Alabama  339.06  198.64  149.49\n",
       "1  2014-01-01      Alaska  288.75  260.60  388.58\n",
       "2  2014-01-01     Arizona  303.31  209.35  189.45\n",
       "3  2014-01-01    Arkansas  361.85  185.62  125.87\n",
       "4  2014-01-01  California  248.78  193.56  192.92"
      ]
     },
     "execution_count": 3,
     "metadata": {},
     "output_type": "execute_result"
    }
   ],
   "source": [
    "d = pd.read_csv('df_weed.csv')\n",
    "d.head()"
   ]
  },
  {
   "cell_type": "code",
   "execution_count": 6,
   "id": "9a80f575",
   "metadata": {},
   "outputs": [
    {
     "data": {
      "text/plain": [
       "<AxesSubplot:ylabel='Density'>"
      ]
     },
     "execution_count": 6,
     "metadata": {},
     "output_type": "execute_result"
    },
    {
     "data": {
      "image/png": "[encoded data removed]",
      "text/plain": [
       "<Figure size 864x288 with 1 Axes>"
      ]
     },
     "metadata": {
      "needs_background": "light"
     },
     "output_type": "display_data"
    }
   ],
   "source": [
    "fig, ax= plt.subplots(figsize=(12,4))\n",
    "d.plot.kde(ax=ax)"
   ]
  },
  {
   "cell_type": "markdown",
   "id": "3d0a009f",
   "metadata": {},
   "source": [
    "# 3. BOXPlots"
   ]
  },
  {
   "cell_type": "code",
   "execution_count": 13,
   "id": "d29b508e",
   "metadata": {},
   "outputs": [
    {
     "data": {
      "text/html": [
       "<div>\n",
       "<style scoped>\n",
       "    .dataframe tbody tr th:only-of-type {\n",
       "        vertical-align: middle;\n",
       "    }\n",
       "\n",
       "    .dataframe tbody tr th {\n",
       "        vertical-align: top;\n",
       "    }\n",
       "\n",
       "    .dataframe thead th {\n",
       "        text-align: right;\n",
       "    }\n",
       "</style>\n",
       "<table border=\"1\" class=\"dataframe\">\n",
       "  <thead>\n",
       "    <tr style=\"text-align: right;\">\n",
       "      <th></th>\n",
       "      <th>Date</th>\n",
       "      <th>BTC</th>\n",
       "      <th>ETH</th>\n",
       "      <th>ETC</th>\n",
       "      <th>ZEC</th>\n",
       "      <th>DASH</th>\n",
       "      <th>LTC</th>\n",
       "    </tr>\n",
       "  </thead>\n",
       "  <tbody>\n",
       "    <tr>\n",
       "      <th>0</th>\n",
       "      <td>4/28/2013</td>\n",
       "      <td>134.21</td>\n",
       "      <td>NaN</td>\n",
       "      <td>NaN</td>\n",
       "      <td>NaN</td>\n",
       "      <td>NaN</td>\n",
       "      <td>4.35</td>\n",
       "    </tr>\n",
       "    <tr>\n",
       "      <th>1</th>\n",
       "      <td>4/29/2013</td>\n",
       "      <td>144.54</td>\n",
       "      <td>NaN</td>\n",
       "      <td>NaN</td>\n",
       "      <td>NaN</td>\n",
       "      <td>NaN</td>\n",
       "      <td>4.38</td>\n",
       "    </tr>\n",
       "    <tr>\n",
       "      <th>2</th>\n",
       "      <td>4/30/2013</td>\n",
       "      <td>139.00</td>\n",
       "      <td>NaN</td>\n",
       "      <td>NaN</td>\n",
       "      <td>NaN</td>\n",
       "      <td>NaN</td>\n",
       "      <td>4.30</td>\n",
       "    </tr>\n",
       "    <tr>\n",
       "      <th>3</th>\n",
       "      <td>5/1/2013</td>\n",
       "      <td>116.99</td>\n",
       "      <td>NaN</td>\n",
       "      <td>NaN</td>\n",
       "      <td>NaN</td>\n",
       "      <td>NaN</td>\n",
       "      <td>3.80</td>\n",
       "    </tr>\n",
       "    <tr>\n",
       "      <th>4</th>\n",
       "      <td>5/2/2013</td>\n",
       "      <td>105.21</td>\n",
       "      <td>NaN</td>\n",
       "      <td>NaN</td>\n",
       "      <td>NaN</td>\n",
       "      <td>NaN</td>\n",
       "      <td>3.37</td>\n",
       "    </tr>\n",
       "  </tbody>\n",
       "</table>\n",
       "</div>"
      ],
      "text/plain": [
       "        Date     BTC  ETH  ETC  ZEC  DASH   LTC\n",
       "0  4/28/2013  134.21  NaN  NaN  NaN   NaN  4.35\n",
       "1  4/29/2013  144.54  NaN  NaN  NaN   NaN  4.38\n",
       "2  4/30/2013  139.00  NaN  NaN  NaN   NaN  4.30\n",
       "3   5/1/2013  116.99  NaN  NaN  NaN   NaN  3.80\n",
       "4   5/2/2013  105.21  NaN  NaN  NaN   NaN  3.37"
      ]
     },
     "execution_count": 13,
     "metadata": {},
     "output_type": "execute_result"
    }
   ],
   "source": [
    "d1 = pd.read_csv('altcoins.csv')\n",
    "d1.head()"
   ]
  },
  {
   "cell_type": "code",
   "execution_count": 37,
   "id": "a030a4a0",
   "metadata": {},
   "outputs": [
    {
     "data": {
      "text/plain": [
       "[None, None, None]"
      ]
     },
     "execution_count": 37,
     "metadata": {},
     "output_type": "execute_result"
    },
    {
     "data": {
      "image/png": "[encoded data removed]",
      "text/plain": [
       "<Figure size 864x360 with 1 Axes>"
      ]
     },
     "metadata": {
      "needs_background": "light"
     },
     "output_type": "display_data"
    }
   ],
   "source": [
    "d1.fillna(0, inplace=True)\n",
    "fig, ax1= plt.subplots(figsize=(12, 5))\n",
    "data = d1.tail(30)\n",
    "l = [data.ETH, data.DASH]\n",
    "bp=ax1.boxplot(l, vert=False, widths=[0.3, 0.8], showmeans=True, showcaps=True,\n",
    "            showfliers=True, medianprops=dict(linestyle='dotted', linewidth=3), \n",
    "            flierprops=dict(marker='s', markeredgecolor=\"r\", markersize=10))\n",
    "bp['boxes'][1].set(color='b', lw=2, ls='dashed')"
   ]
  },
  {
   "cell_type": "markdown",
   "id": "d39d4eab",
   "metadata": {},
   "source": [
    "# violin Plots"
   ]
  },
  {
   "cell_type": "code",
   "execution_count": 52,
   "id": "0fc4d27f",
   "metadata": {},
   "outputs": [
    {
     "data": {
      "text/plain": [
       "(0.5, 2.6)"
      ]
     },
     "execution_count": 52,
     "metadata": {},
     "output_type": "execute_result"
    },
    {
     "data": {
      "image/png": "[encoded data removed]",
      "text/plain": [
       "<Figure size 864x360 with 1 Axes>"
      ]
     },
     "metadata": {
      "needs_background": "light"
     },
     "output_type": "display_data"
    }
   ],
   "source": [
    "d1.head()\n",
    "fig, ax2= plt.subplots(figsize=(12, 5))\n",
    "l = [data.ETH, data.DASH]\n",
    "vp=ax2.violinplot(l, vert=False, widths=[0.3, 0.8], showmeans=True,)\n",
    "vp['bodies'][0].set(facecolor=\"red\")\n",
    "vp['bodies'][1].set(facecolor=\"blue\")\n",
    "vp['cbars'].set(linewidth=2.5, color=\"k\", ls=\"dotted\")\n",
    "vp['cmeans'].set(linewidth=2.5, color=\"k\", ls=\"dotted\")\n",
    "ax2.set_xlim(250, 550)\n",
    "ax2.set_ylim(0.5, 2.6)"
   ]
  },
  {
   "cell_type": "code",
   "execution_count": 33,
   "id": "7a6a1842",
   "metadata": {},
   "outputs": [
    {
     "name": "stdout",
     "output_type": "stream",
     "text": [
      "Help on method violinplot in module matplotlib.axes._axes:\n",
      "\n",
      "violinplot(dataset, positions=None, vert=True, widths=0.5, showmeans=False, showextrema=True, showmedians=False, quantiles=None, points=100, bw_method=None, *, data=None) method of matplotlib.axes._subplots.AxesSubplot instance\n",
      "    Make a violin plot.\n",
      "    \n",
      "    Make a violin plot for each column of *dataset* or each vector in\n",
      "    sequence *dataset*.  Each filled area extends to represent the\n",
      "    entire data range, with optional lines at the mean, the median,\n",
      "    the minimum, the maximum, and user-specified quantiles.\n",
      "    \n",
      "    Parameters\n",
      "    ----------\n",
      "    dataset : Array or a sequence of vectors.\n",
      "      The input data.\n",
      "    \n",
      "    positions : array-like, default: [1, 2, ..., n]\n",
      "      The positions of the violins. The ticks and limits are\n",
      "      automatically set to match the positions.\n",
      "    \n",
      "    vert : bool, default: True.\n",
      "      If true, creates a vertical violin plot.\n",
      "      Otherwise, creates a horizontal violin plot.\n",
      "    \n",
      "    widths : array-like, default: 0.5\n",
      "      Either a scalar or a vector that sets the maximal width of\n",
      "      each violin. The default is 0.5, which uses about half of the\n",
      "      available horizontal space.\n",
      "    \n",
      "    showmeans : bool, default: False\n",
      "      If `True`, will toggle rendering of the means.\n",
      "    \n",
      "    showextrema : bool, default: True\n",
      "      If `True`, will toggle rendering of the extrema.\n",
      "    \n",
      "    showmedians : bool, default: False\n",
      "      If `True`, will toggle rendering of the medians.\n",
      "    \n",
      "    quantiles : array-like, default: None\n",
      "      If not None, set a list of floats in interval [0, 1] for each violin,\n",
      "      which stands for the quantiles that will be rendered for that\n",
      "      violin.\n",
      "    \n",
      "    points : int, default: 100\n",
      "      Defines the number of points to evaluate each of the\n",
      "      gaussian kernel density estimations at.\n",
      "    \n",
      "    bw_method : str, scalar or callable, optional\n",
      "      The method used to calculate the estimator bandwidth.  This can be\n",
      "      'scott', 'silverman', a scalar constant or a callable.  If a\n",
      "      scalar, this will be used directly as `kde.factor`.  If a\n",
      "      callable, it should take a `GaussianKDE` instance as its only\n",
      "      parameter and return a scalar. If None (default), 'scott' is used.\n",
      "    \n",
      "    Returns\n",
      "    -------\n",
      "    dict\n",
      "      A dictionary mapping each component of the violinplot to a\n",
      "      list of the corresponding collection instances created. The\n",
      "      dictionary has the following keys:\n",
      "    \n",
      "      - ``bodies``: A list of the `~.collections.PolyCollection`\n",
      "        instances containing the filled area of each violin.\n",
      "    \n",
      "      - ``cmeans``: A `~.collections.LineCollection` instance that marks\n",
      "        the mean values of each of the violin's distribution.\n",
      "    \n",
      "      - ``cmins``: A `~.collections.LineCollection` instance that marks\n",
      "        the bottom of each violin's distribution.\n",
      "    \n",
      "      - ``cmaxes``: A `~.collections.LineCollection` instance that marks\n",
      "        the top of each violin's distribution.\n",
      "    \n",
      "      - ``cbars``: A `~.collections.LineCollection` instance that marks\n",
      "        the centers of each violin's distribution.\n",
      "    \n",
      "      - ``cmedians``: A `~.collections.LineCollection` instance that\n",
      "        marks the median values of each of the violin's distribution.\n",
      "    \n",
      "      - ``cquantiles``: A `~.collections.LineCollection` instance created\n",
      "        to identify the quantile values of each of the violin's\n",
      "        distribution.\n",
      "    \n",
      "    Notes\n",
      "    -----\n",
      "    \n",
      "    \n",
      "    .. note::\n",
      "        In addition to the above described arguments, this function can take\n",
      "        a *data* keyword argument. If such a *data* argument is given,\n",
      "        the following arguments can also be string ``s``, which is\n",
      "        interpreted as ``data[s]`` (unless this raises an exception):\n",
      "        *dataset*.\n",
      "    \n",
      "        Objects passed as **data** must support item access (``data[s]``) and\n",
      "        membership test (``s in data``).\n",
      "\n"
     ]
    }
   ],
   "source": [
    "help(ax2.violinplot)"
   ]
  },
  {
   "cell_type": "markdown",
   "id": "3c41391e",
   "metadata": {},
   "source": [
    "# Heat MAP"
   ]
  },
  {
   "cell_type": "code",
   "execution_count": 62,
   "id": "576c7247",
   "metadata": {},
   "outputs": [
    {
     "data": {
      "text/html": [
       "<div>\n",
       "<style scoped>\n",
       "    .dataframe tbody tr th:only-of-type {\n",
       "        vertical-align: middle;\n",
       "    }\n",
       "\n",
       "    .dataframe tbody tr th {\n",
       "        vertical-align: top;\n",
       "    }\n",
       "\n",
       "    .dataframe thead th {\n",
       "        text-align: right;\n",
       "    }\n",
       "</style>\n",
       "<table border=\"1\" class=\"dataframe\">\n",
       "  <thead>\n",
       "    <tr style=\"text-align: right;\">\n",
       "      <th></th>\n",
       "      <th>Date</th>\n",
       "      <th>BTC</th>\n",
       "      <th>ETH</th>\n",
       "      <th>ETC</th>\n",
       "      <th>ZEC</th>\n",
       "      <th>DASH</th>\n",
       "      <th>LTC</th>\n",
       "    </tr>\n",
       "  </thead>\n",
       "  <tbody>\n",
       "    <tr>\n",
       "      <th>1280</th>\n",
       "      <td>10/29/2016</td>\n",
       "      <td>714.48</td>\n",
       "      <td>10.44</td>\n",
       "      <td>0.889612</td>\n",
       "      <td>2044.47</td>\n",
       "      <td>8.61</td>\n",
       "      <td>4.09</td>\n",
       "    </tr>\n",
       "    <tr>\n",
       "      <th>1281</th>\n",
       "      <td>10/30/2016</td>\n",
       "      <td>701.86</td>\n",
       "      <td>11.18</td>\n",
       "      <td>0.927473</td>\n",
       "      <td>574.82</td>\n",
       "      <td>9.67</td>\n",
       "      <td>4.03</td>\n",
       "    </tr>\n",
       "    <tr>\n",
       "      <th>1282</th>\n",
       "      <td>10/31/2016</td>\n",
       "      <td>700.97</td>\n",
       "      <td>11.00</td>\n",
       "      <td>0.903216</td>\n",
       "      <td>1624.58</td>\n",
       "      <td>9.20</td>\n",
       "      <td>3.99</td>\n",
       "    </tr>\n",
       "    <tr>\n",
       "      <th>1283</th>\n",
       "      <td>11/1/2016</td>\n",
       "      <td>729.79</td>\n",
       "      <td>10.77</td>\n",
       "      <td>0.884664</td>\n",
       "      <td>1333.74</td>\n",
       "      <td>9.04</td>\n",
       "      <td>4.09</td>\n",
       "    </tr>\n",
       "    <tr>\n",
       "      <th>1284</th>\n",
       "      <td>11/2/2016</td>\n",
       "      <td>740.83</td>\n",
       "      <td>10.75</td>\n",
       "      <td>0.885256</td>\n",
       "      <td>942.78</td>\n",
       "      <td>8.94</td>\n",
       "      <td>4.10</td>\n",
       "    </tr>\n",
       "  </tbody>\n",
       "</table>\n",
       "</div>"
      ],
      "text/plain": [
       "            Date     BTC    ETH       ETC      ZEC  DASH   LTC\n",
       "1280  10/29/2016  714.48  10.44  0.889612  2044.47  8.61  4.09\n",
       "1281  10/30/2016  701.86  11.18  0.927473   574.82  9.67  4.03\n",
       "1282  10/31/2016  700.97  11.00  0.903216  1624.58  9.20  3.99\n",
       "1283   11/1/2016  729.79  10.77  0.884664  1333.74  9.04  4.09\n",
       "1284   11/2/2016  740.83  10.75  0.885256   942.78  8.94  4.10"
      ]
     },
     "execution_count": 62,
     "metadata": {},
     "output_type": "execute_result"
    }
   ],
   "source": [
    "d1 = pd.read_csv('altcoins.csv')\n",
    "d1.head()\n",
    "d1.dropna(inplace=True)\n",
    "d1.head()"
   ]
  },
  {
   "cell_type": "code",
   "execution_count": 63,
   "id": "21f409a7",
   "metadata": {},
   "outputs": [
    {
     "data": {
      "text/html": [
       "<div>\n",
       "<style scoped>\n",
       "    .dataframe tbody tr th:only-of-type {\n",
       "        vertical-align: middle;\n",
       "    }\n",
       "\n",
       "    .dataframe tbody tr th {\n",
       "        vertical-align: top;\n",
       "    }\n",
       "\n",
       "    .dataframe thead th {\n",
       "        text-align: right;\n",
       "    }\n",
       "</style>\n",
       "<table border=\"1\" class=\"dataframe\">\n",
       "  <thead>\n",
       "    <tr style=\"text-align: right;\">\n",
       "      <th></th>\n",
       "      <th>BTC</th>\n",
       "      <th>ETH</th>\n",
       "      <th>ETC</th>\n",
       "      <th>ZEC</th>\n",
       "      <th>DASH</th>\n",
       "      <th>LTC</th>\n",
       "    </tr>\n",
       "  </thead>\n",
       "  <tbody>\n",
       "    <tr>\n",
       "      <th>BTC</th>\n",
       "      <td>1.000000</td>\n",
       "      <td>0.863730</td>\n",
       "      <td>0.685694</td>\n",
       "      <td>0.279518</td>\n",
       "      <td>0.910701</td>\n",
       "      <td>0.900221</td>\n",
       "    </tr>\n",
       "    <tr>\n",
       "      <th>ETH</th>\n",
       "      <td>0.863730</td>\n",
       "      <td>1.000000</td>\n",
       "      <td>0.928090</td>\n",
       "      <td>0.391908</td>\n",
       "      <td>0.917122</td>\n",
       "      <td>0.943395</td>\n",
       "    </tr>\n",
       "    <tr>\n",
       "      <th>ETC</th>\n",
       "      <td>0.685694</td>\n",
       "      <td>0.928090</td>\n",
       "      <td>1.000000</td>\n",
       "      <td>0.384311</td>\n",
       "      <td>0.772624</td>\n",
       "      <td>0.859662</td>\n",
       "    </tr>\n",
       "    <tr>\n",
       "      <th>ZEC</th>\n",
       "      <td>0.279518</td>\n",
       "      <td>0.391908</td>\n",
       "      <td>0.384311</td>\n",
       "      <td>1.000000</td>\n",
       "      <td>0.302269</td>\n",
       "      <td>0.340220</td>\n",
       "    </tr>\n",
       "    <tr>\n",
       "      <th>DASH</th>\n",
       "      <td>0.910701</td>\n",
       "      <td>0.917122</td>\n",
       "      <td>0.772624</td>\n",
       "      <td>0.302269</td>\n",
       "      <td>1.000000</td>\n",
       "      <td>0.948427</td>\n",
       "    </tr>\n",
       "    <tr>\n",
       "      <th>LTC</th>\n",
       "      <td>0.900221</td>\n",
       "      <td>0.943395</td>\n",
       "      <td>0.859662</td>\n",
       "      <td>0.340220</td>\n",
       "      <td>0.948427</td>\n",
       "      <td>1.000000</td>\n",
       "    </tr>\n",
       "  </tbody>\n",
       "</table>\n",
       "</div>"
      ],
      "text/plain": [
       "           BTC       ETH       ETC       ZEC      DASH       LTC\n",
       "BTC   1.000000  0.863730  0.685694  0.279518  0.910701  0.900221\n",
       "ETH   0.863730  1.000000  0.928090  0.391908  0.917122  0.943395\n",
       "ETC   0.685694  0.928090  1.000000  0.384311  0.772624  0.859662\n",
       "ZEC   0.279518  0.391908  0.384311  1.000000  0.302269  0.340220\n",
       "DASH  0.910701  0.917122  0.772624  0.302269  1.000000  0.948427\n",
       "LTC   0.900221  0.943395  0.859662  0.340220  0.948427  1.000000"
      ]
     },
     "execution_count": 63,
     "metadata": {},
     "output_type": "execute_result"
    }
   ],
   "source": [
    "cor_d1 = d1.corr()\n",
    "cor_d1\n"
   ]
  },
  {
   "cell_type": "code",
   "execution_count": 68,
   "id": "cd4b060e",
   "metadata": {},
   "outputs": [
    {
     "name": "stderr",
     "output_type": "stream",
     "text": [
      "/usr/local/lib/python3.7/site-packages/ipykernel_launcher.py:4: UserWarning: FixedFormatter should only be used together with FixedLocator\n",
      "  after removing the cwd from sys.path.\n",
      "/usr/local/lib/python3.7/site-packages/ipykernel_launcher.py:5: UserWarning: FixedFormatter should only be used together with FixedLocator\n",
      "  \"\"\"\n"
     ]
    },
    {
     "data": {
      "image/png": "[encoded data removed]",
      "text/plain": [
       "<Figure size 864x360 with 2 Axes>"
      ]
     },
     "execution_count": 68,
     "metadata": {},
     "output_type": "execute_result"
    },
    {
     "data": {
      "image/png": "[encoded data removed]",
      "text/plain": [
       "<Figure size 864x360 with 2 Axes>"
      ]
     },
     "metadata": {
      "needs_background": "light"
     },
     "output_type": "display_data"
    }
   ],
   "source": [
    "fig, ax1= plt.subplots(figsize=(12, 5))\n",
    "cax=ax1.imshow(cor_d1.values)\n",
    "\n",
    "ax1.set_xticklabels(d1.columns)\n",
    "ax1.set_yticklabels(d1.columns)\n",
    "\n",
    "fig.colorbar(cax)\n",
    "fig"
   ]
  },
  {
   "cell_type": "code",
   "execution_count": null,
   "id": "a3bbe732",
   "metadata": {},
   "outputs": [],
   "source": []
  }
 ],
 "metadata": {
  "kernelspec": {
   "display_name": "Python 3 (ipykernel)",
   "language": "python",
   "name": "python3"
  },
  "language_info": {
   "codemirror_mode": {
    "name": "ipython",
    "version": 3
   },
   "file_extension": ".py",
   "mimetype": "text/x-python",
   "name": "python",
   "nbconvert_exporter": "python",
   "pygments_lexer": "ipython3",
   "version": "3.7.12"
  }
 },
 "nbformat": 4,
 "nbformat_minor": 5
}
