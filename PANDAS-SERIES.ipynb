{
 "cells": [
  {
   "cell_type": "markdown",
   "id": "055c52d8",
   "metadata": {},
   "source": [
    "# PANDAS"
   ]
  },
  {
   "cell_type": "code",
   "execution_count": 1,
   "id": "3d6289de",
   "metadata": {},
   "outputs": [
    {
     "name": "stdout",
     "output_type": "stream",
     "text": [
      "\u001b[33mDEPRECATION: Configuring installation scheme with distutils config files is deprecated and will no longer work in the near future. If you are using a Homebrew or Linuxbrew Python, please see discussion at https://github.com/Homebrew/homebrew-core/issues/76621\u001b[0m\n",
      "Requirement already satisfied: pandas in /usr/local/lib/python3.7/site-packages (1.3.4)\n",
      "Requirement already satisfied: numpy>=1.17.3 in /usr/local/lib/python3.7/site-packages (from pandas) (1.21.3)\n",
      "Requirement already satisfied: python-dateutil>=2.7.3 in /usr/local/lib/python3.7/site-packages (from pandas) (2.8.2)\n",
      "Requirement already satisfied: pytz>=2017.3 in /usr/local/lib/python3.7/site-packages (from pandas) (2021.3)\n",
      "Requirement already satisfied: six>=1.5 in /usr/local/lib/python3.7/site-packages (from python-dateutil>=2.7.3->pandas) (1.16.0)\n",
      "\u001b[33mDEPRECATION: Configuring installation scheme with distutils config files is deprecated and will no longer work in the near future. If you are using a Homebrew or Linuxbrew Python, please see discussion at https://github.com/Homebrew/homebrew-core/issues/76621\u001b[0m\n"
     ]
    }
   ],
   "source": [
    "!pip3 install pandas"
   ]
  },
  {
   "cell_type": "code",
   "execution_count": 5,
   "id": "0129cd79",
   "metadata": {},
   "outputs": [],
   "source": [
    "import numpy as np\n",
    "import pandas as pd\n",
    "from pandas import Series"
   ]
  },
  {
   "cell_type": "markdown",
   "id": "aafe7a38",
   "metadata": {},
   "source": [
    "Series is a one-dimensional labeled array capable of holding data of any type (integer, string, float, python objects, etc.). \n",
    "The axis labels are collectively called index."
   ]
  },
  {
   "cell_type": "code",
   "execution_count": 7,
   "id": "858e110b",
   "metadata": {},
   "outputs": [
    {
     "name": "stdout",
     "output_type": "stream",
     "text": [
      "0     5\n",
      "1    10\n",
      "2    15\n",
      "3    20\n",
      "dtype: int64\n",
      "[ 5 10 15 20]\n",
      "[0 1 2 3]\n"
     ]
    }
   ],
   "source": [
    "#create a simple series\n",
    "s1 = Series([5, 10, 15, 20])\n",
    "print(s1)\n",
    "print(s1.values)\n",
    "print(s1.index.values)"
   ]
  },
  {
   "cell_type": "markdown",
   "id": "f6abbd0e",
   "metadata": {},
   "source": [
    "# create series from array"
   ]
  },
  {
   "cell_type": "code",
   "execution_count": null,
   "id": "e9b174d3",
   "metadata": {},
   "outputs": [],
   "source": [
    "A = np.array([100, 200, 300, 400])\n",
    "print(A)\n",
    "S1 = Series(A)\n",
    "print(S1)"
   ]
  },
  {
   "cell_type": "markdown",
   "id": "ac899418",
   "metadata": {},
   "source": [
    "# create series with custom indexes"
   ]
  },
  {
   "cell_type": "code",
   "execution_count": 10,
   "id": "da405aa9",
   "metadata": {},
   "outputs": [
    {
     "name": "stdout",
     "output_type": "stream",
     "text": [
      "uber     100\n",
      "ola      200\n",
      "lyft     300\n",
      "gojek    400\n",
      "dtype: int64\n"
     ]
    },
    {
     "data": {
      "text/plain": [
       "200"
      ]
     },
     "execution_count": 10,
     "metadata": {},
     "output_type": "execute_result"
    }
   ],
   "source": [
    "revenue = Series(A, index=['uber', 'ola', 'lyft', 'gojek'])\n",
    "print(revenue)\n",
    "revenue['ola']"
   ]
  },
  {
   "cell_type": "markdown",
   "id": "1c0255ec",
   "metadata": {},
   "source": [
    "# filter a series based on condition\n"
   ]
  },
  {
   "cell_type": "code",
   "execution_count": 12,
   "id": "aa239a32",
   "metadata": {},
   "outputs": [
    {
     "name": "stdout",
     "output_type": "stream",
     "text": [
      "lyft     300\n",
      "gojek    400\n",
      "dtype: int64\n",
      "True\n"
     ]
    }
   ],
   "source": [
    "print(revenue[revenue>250])\n",
    "#check the element\n",
    "print('ola'in revenue)"
   ]
  },
  {
   "cell_type": "markdown",
   "id": "a28819fb",
   "metadata": {},
   "source": [
    "# to_dict()"
   ]
  },
  {
   "cell_type": "code",
   "execution_count": 13,
   "id": "9c6de944",
   "metadata": {},
   "outputs": [
    {
     "name": "stdout",
     "output_type": "stream",
     "text": [
      "{'uber': 100, 'ola': 200, 'lyft': 300, 'gojek': 400}\n"
     ]
    }
   ],
   "source": [
    "revenue_dict = revenue.to_dict()\n",
    "print(revenue_dict)"
   ]
  },
  {
   "cell_type": "markdown",
   "id": "223f983c",
   "metadata": {},
   "source": [
    "# addition of two series"
   ]
  },
  {
   "cell_type": "code",
   "execution_count": 16,
   "id": "e8428be7",
   "metadata": {},
   "outputs": [
    {
     "name": "stdout",
     "output_type": "stream",
     "text": [
      "uber     100\n",
      "ola      200\n",
      "lyft     300\n",
      "gojek    400\n",
      "dtype: int64\n",
      "uber     200\n",
      "ola      400\n",
      "lyft     600\n",
      "gojek    800\n",
      "dtype: int64\n"
     ]
    }
   ],
   "source": [
    "print(revenue)\n",
    "print(revenue + revenue)"
   ]
  },
  {
   "cell_type": "code",
   "execution_count": 17,
   "id": "07f6eab0",
   "metadata": {},
   "outputs": [
    {
     "name": "stdout",
     "output_type": "stream",
     "text": [
      "company name\n",
      "uber     100\n",
      "ola      200\n",
      "lyft     300\n",
      "gojek    400\n",
      "Name: company-renvenue, dtype: int64\n"
     ]
    }
   ],
   "source": [
    "#Assign names to a series and its index\n",
    "revenue.name = \"company-renvenue\"\n",
    "revenue.index.name = \"company name\"\n",
    "print(revenue)"
   ]
  },
  {
   "cell_type": "markdown",
   "id": "c5f28b20",
   "metadata": {},
   "source": [
    "# REINDEXING SERIES"
   ]
  },
  {
   "cell_type": "code",
   "execution_count": 4,
   "id": "cd173ce7",
   "metadata": {},
   "outputs": [
    {
     "data": {
      "text/plain": [
       "a    1\n",
       "b    2\n",
       "c    3\n",
       "d    4\n",
       "e    5\n",
       "dtype: int64"
      ]
     },
     "execution_count": 4,
     "metadata": {},
     "output_type": "execute_result"
    }
   ],
   "source": [
    "import numpy as np\n",
    "import pandas as pd\n",
    "from pandas import Series\n",
    "s1 = Series([1, 2, 3, 4, 5], index=[\"a\", \"b\", \"c\", \"d\", \"e\"])\n",
    "s1"
   ]
  },
  {
   "cell_type": "code",
   "execution_count": 6,
   "id": "f2c782ca",
   "metadata": {},
   "outputs": [
    {
     "name": "stdout",
     "output_type": "stream",
     "text": [
      "a    1.0\n",
      "b    2.0\n",
      "c    3.0\n",
      "d    4.0\n",
      "e    5.0\n",
      "g    NaN\n",
      "h    NaN\n",
      "dtype: float64\n"
     ]
    }
   ],
   "source": [
    "s1 = s1.reindex([\"a\", \"b\", \"c\", \"d\", \"e\", \"g\", \"h\"])\n",
    "print(s1)"
   ]
  },
  {
   "cell_type": "code",
   "execution_count": 7,
   "id": "9056192d",
   "metadata": {},
   "outputs": [
    {
     "name": "stdout",
     "output_type": "stream",
     "text": [
      "a      1.0\n",
      "b      2.0\n",
      "c      3.0\n",
      "d      4.0\n",
      "e      5.0\n",
      "g      NaN\n",
      "h      NaN\n",
      "r    100.0\n",
      "dtype: float64\n"
     ]
    }
   ],
   "source": [
    "s1 = s1.reindex([\"a\", \"b\", \"c\", \"d\", \"e\", \"g\", \"h\", \"r\"], fill_value=100)\n",
    "print(s1)"
   ]
  },
  {
   "cell_type": "markdown",
   "id": "a2e8ac81",
   "metadata": {},
   "source": [
    "# forward FILL"
   ]
  },
  {
   "cell_type": "code",
   "execution_count": 9,
   "id": "d6e61bcd",
   "metadata": {},
   "outputs": [
    {
     "data": {
      "text/plain": [
       "0         AUDI\n",
       "4          BMW\n",
       "8      FERRARI\n",
       "12    MERCEDES\n",
       "dtype: object"
      ]
     },
     "execution_count": 9,
     "metadata": {},
     "output_type": "execute_result"
    }
   ],
   "source": [
    "cars= Series((\"AUDI\", \"BMW\", \"FERRARI\", \"MERCEDES\"), index=[0, 4, 8, 12])\n",
    "cars"
   ]
  },
  {
   "cell_type": "code",
   "execution_count": 10,
   "id": "974eadd8",
   "metadata": {},
   "outputs": [
    {
     "name": "stdout",
     "output_type": "stream",
     "text": [
      "0         AUDI\n",
      "1         AUDI\n",
      "2         AUDI\n",
      "3         AUDI\n",
      "4          BMW\n",
      "5          BMW\n",
      "6          BMW\n",
      "7          BMW\n",
      "8      FERRARI\n",
      "9      FERRARI\n",
      "10     FERRARI\n",
      "11     FERRARI\n",
      "12    MERCEDES\n",
      "13    MERCEDES\n",
      "14    MERCEDES\n",
      "15    MERCEDES\n",
      "16    MERCEDES\n",
      "17    MERCEDES\n",
      "18    MERCEDES\n",
      "19    MERCEDES\n",
      "20    MERCEDES\n",
      "21    MERCEDES\n",
      "22    MERCEDES\n",
      "23    MERCEDES\n",
      "dtype: object\n"
     ]
    }
   ],
   "source": [
    "new_index = range(24)\n",
    "cars= cars.reindex(new_index, method=\"ffill\")\n",
    "print(cars)"
   ]
  },
  {
   "cell_type": "markdown",
   "id": "21958743",
   "metadata": {},
   "source": [
    "# DROPPING VALUES"
   ]
  },
  {
   "cell_type": "code",
   "execution_count": 14,
   "id": "cb505e0b",
   "metadata": {},
   "outputs": [
    {
     "data": {
      "text/plain": [
       "a      1.0\n",
       "b      2.0\n",
       "c      3.0\n",
       "d      4.0\n",
       "e      5.0\n",
       "g      NaN\n",
       "r    100.0\n",
       "dtype: float64"
      ]
     },
     "execution_count": 14,
     "metadata": {},
     "output_type": "execute_result"
    }
   ],
   "source": [
    "s1=s1.drop('h')\n",
    "s1"
   ]
  },
  {
   "cell_type": "markdown",
   "id": "7cea791d",
   "metadata": {},
   "source": [
    "# Handling NULL"
   ]
  },
  {
   "cell_type": "code",
   "execution_count": 15,
   "id": "09cd9622",
   "metadata": {},
   "outputs": [
    {
     "name": "stdout",
     "output_type": "stream",
     "text": [
      "AUDI       100.0\n",
      "TOYOTA     200.0\n",
      "BMW        300.0\n",
      "FERRARI      NaN\n",
      "dtype: float64\n"
     ]
    }
   ],
   "source": [
    "R = Series([100, 200, 300, np.nan], index=[\"AUDI\", \"TOYOTA\", \"BMW\", \"FERRARI\"])\n",
    "print(R)"
   ]
  },
  {
   "cell_type": "code",
   "execution_count": 16,
   "id": "454b68a9",
   "metadata": {},
   "outputs": [
    {
     "data": {
      "text/plain": [
       "AUDI       False\n",
       "TOYOTA     False\n",
       "BMW        False\n",
       "FERRARI     True\n",
       "dtype: bool"
      ]
     },
     "execution_count": 16,
     "metadata": {},
     "output_type": "execute_result"
    }
   ],
   "source": [
    "R.isnull()"
   ]
  },
  {
   "cell_type": "code",
   "execution_count": 17,
   "id": "aefd9b8a",
   "metadata": {},
   "outputs": [
    {
     "data": {
      "text/plain": [
       "AUDI      100.0\n",
       "TOYOTA    200.0\n",
       "BMW       300.0\n",
       "dtype: float64"
      ]
     },
     "execution_count": 17,
     "metadata": {},
     "output_type": "execute_result"
    }
   ],
   "source": [
    "R.dropna()"
   ]
  },
  {
   "cell_type": "markdown",
   "id": "33ab998a",
   "metadata": {},
   "source": [
    "# MODIFYING"
   ]
  },
  {
   "cell_type": "code",
   "execution_count": 18,
   "id": "9adb34a9",
   "metadata": {},
   "outputs": [
    {
     "data": {
      "text/plain": [
       "a      1.0\n",
       "b      2.0\n",
       "c      3.0\n",
       "d      4.0\n",
       "e      5.0\n",
       "g      NaN\n",
       "r    100.0\n",
       "dtype: float64"
      ]
     },
     "execution_count": 18,
     "metadata": {},
     "output_type": "execute_result"
    }
   ],
   "source": [
    "s1"
   ]
  },
  {
   "cell_type": "code",
   "execution_count": 19,
   "id": "e8c8b1cc",
   "metadata": {},
   "outputs": [
    {
     "data": {
      "text/plain": [
       "1.0"
      ]
     },
     "execution_count": 19,
     "metadata": {},
     "output_type": "execute_result"
    }
   ],
   "source": [
    "s1['a']"
   ]
  },
  {
   "cell_type": "code",
   "execution_count": 20,
   "id": "a10a1f02",
   "metadata": {},
   "outputs": [
    {
     "data": {
      "text/plain": [
       "a    1.0\n",
       "d    4.0\n",
       "dtype: float64"
      ]
     },
     "execution_count": 20,
     "metadata": {},
     "output_type": "execute_result"
    }
   ],
   "source": [
    "s1[['a', 'd']]"
   ]
  },
  {
   "cell_type": "code",
   "execution_count": 21,
   "id": "969c1348",
   "metadata": {},
   "outputs": [
    {
     "data": {
      "text/plain": [
       "1.0"
      ]
     },
     "execution_count": 21,
     "metadata": {},
     "output_type": "execute_result"
    }
   ],
   "source": [
    "s1[0] #through default index"
   ]
  },
  {
   "cell_type": "code",
   "execution_count": 22,
   "id": "79cabeab",
   "metadata": {},
   "outputs": [
    {
     "data": {
      "text/plain": [
       "d      4.0\n",
       "e      5.0\n",
       "r    100.0\n",
       "dtype: float64"
      ]
     },
     "execution_count": 22,
     "metadata": {},
     "output_type": "execute_result"
    }
   ],
   "source": [
    "#conditional\n",
    "s1[s1> 3]"
   ]
  },
  {
   "cell_type": "markdown",
   "id": "83e6eff3",
   "metadata": {},
   "source": [
    "# Coordinating and Regulating data"
   ]
  },
  {
   "cell_type": "code",
   "execution_count": 23,
   "id": "fb238850",
   "metadata": {},
   "outputs": [
    {
     "data": {
      "text/plain": [
       "a      1.0\n",
       "b      2.0\n",
       "c      3.0\n",
       "d      4.0\n",
       "e      5.0\n",
       "g      NaN\n",
       "r    100.0\n",
       "dtype: float64"
      ]
     },
     "execution_count": 23,
     "metadata": {},
     "output_type": "execute_result"
    }
   ],
   "source": [
    "s1"
   ]
  },
  {
   "cell_type": "code",
   "execution_count": 24,
   "id": "868e5fc9",
   "metadata": {},
   "outputs": [
    {
     "data": {
      "text/plain": [
       "a    10\n",
       "b    20\n",
       "c    30\n",
       "d    40\n",
       "dtype: int64"
      ]
     },
     "execution_count": 24,
     "metadata": {},
     "output_type": "execute_result"
    }
   ],
   "source": [
    "s2 = Series([10, 20, 30, 40], index=[\"a\", \"b\", \"c\", \"d\"])\n",
    "s2"
   ]
  },
  {
   "cell_type": "code",
   "execution_count": 25,
   "id": "0a0a160d",
   "metadata": {},
   "outputs": [
    {
     "data": {
      "text/plain": [
       "a    11.0\n",
       "b    22.0\n",
       "c    33.0\n",
       "d    44.0\n",
       "e     NaN\n",
       "g     NaN\n",
       "r     NaN\n",
       "dtype: float64"
      ]
     },
     "execution_count": 25,
     "metadata": {},
     "output_type": "execute_result"
    }
   ],
   "source": [
    "s1+s2"
   ]
  },
  {
   "cell_type": "code",
   "execution_count": null,
   "id": "809067d3",
   "metadata": {},
   "outputs": [],
   "source": []
  },
  {
   "cell_type": "code",
   "execution_count": null,
   "id": "99941d84",
   "metadata": {},
   "outputs": [],
   "source": []
  },
  {
   "cell_type": "code",
   "execution_count": null,
   "id": "eb124891",
   "metadata": {},
   "outputs": [],
   "source": []
  },
  {
   "cell_type": "code",
   "execution_count": null,
   "id": "e4a0c0a3",
   "metadata": {},
   "outputs": [],
   "source": []
  },
  {
   "cell_type": "code",
   "execution_count": null,
   "id": "aeaf73df",
   "metadata": {},
   "outputs": [],
   "source": []
  },
  {
   "cell_type": "code",
   "execution_count": null,
   "id": "6167f858",
   "metadata": {},
   "outputs": [],
   "source": []
  }
 ],
 "metadata": {
  "kernelspec": {
   "display_name": "Python 3 (ipykernel)",
   "language": "python",
   "name": "python3"
  },
  "language_info": {
   "codemirror_mode": {
    "name": "ipython",
    "version": 3
   },
   "file_extension": ".py",
   "mimetype": "text/x-python",
   "name": "python",
   "nbconvert_exporter": "python",
   "pygments_lexer": "ipython3",
   "version": "3.7.12"
  }
 },
 "nbformat": 4,
 "nbformat_minor": 5
}
