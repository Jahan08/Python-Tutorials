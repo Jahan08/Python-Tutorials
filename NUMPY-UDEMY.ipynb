{
 "cells": [
  {
   "cell_type": "markdown",
   "id": "e085593a",
   "metadata": {},
   "source": [
    "# NUMPY Tutorial"
   ]
  },
  {
   "cell_type": "code",
   "execution_count": 10,
   "id": "c920dccf",
   "metadata": {},
   "outputs": [
    {
     "name": "stdout",
     "output_type": "stream",
     "text": [
      "-0.07238694776263069\n"
     ]
    }
   ],
   "source": [
    "import numpy as np\n",
    "x= [1, 2, 3, 4, 5]\n",
    "y= [1.67, 1.78, 1.56, 1.89, 1.34]\n",
    "X = np.log(x)\n",
    "Y = np.log(y)\n",
    "slope, intercept = np.polyfit(X, Y, 1)\n",
    "print(slope)"
   ]
  },
  {
   "cell_type": "markdown",
   "id": "fc3684ee",
   "metadata": {},
   "source": [
    "# 1D array"
   ]
  },
  {
   "cell_type": "code",
   "execution_count": 11,
   "id": "17a02856",
   "metadata": {},
   "outputs": [
    {
     "name": "stdout",
     "output_type": "stream",
     "text": [
      "[1 2 3 4 5]\n"
     ]
    }
   ],
   "source": [
    "mylist = [1, 2, 3, 4, 5]\n",
    "myarray = np.array(mylist)\n",
    "print(myarray)"
   ]
  },
  {
   "cell_type": "markdown",
   "id": "12329e2c",
   "metadata": {},
   "source": [
    "# 2D array"
   ]
  },
  {
   "cell_type": "code",
   "execution_count": 16,
   "id": "a3a9b220",
   "metadata": {},
   "outputs": [
    {
     "name": "stdout",
     "output_type": "stream",
     "text": [
      "[[ 1  2  3  4  5]\n",
      " [10 20 30 40 50]]\n"
     ]
    }
   ],
   "source": [
    "mylist2=[10, 20, 30, 40, 50]\n",
    "myarray2D = np.array([mylist, mylist2])\n",
    "print(myarray2D) "
   ]
  },
  {
   "cell_type": "markdown",
   "id": "6de6e3d6",
   "metadata": {},
   "source": [
    "# dimesions of the array"
   ]
  },
  {
   "cell_type": "code",
   "execution_count": 19,
   "id": "1a77997c",
   "metadata": {},
   "outputs": [
    {
     "name": "stdout",
     "output_type": "stream",
     "text": [
      "(5,)\n",
      "(2, 5)\n"
     ]
    }
   ],
   "source": [
    "print(myarray.shape)\n",
    "print(myarray2D.shape)"
   ]
  },
  {
   "cell_type": "markdown",
   "id": "e8c947fe",
   "metadata": {},
   "source": [
    "# find the datatype"
   ]
  },
  {
   "cell_type": "code",
   "execution_count": 20,
   "id": "a22cdfc1",
   "metadata": {},
   "outputs": [
    {
     "name": "stdout",
     "output_type": "stream",
     "text": [
      "int64\n"
     ]
    }
   ],
   "source": [
    "print(myarray2D.dtype)"
   ]
  },
  {
   "cell_type": "markdown",
   "id": "176bb947",
   "metadata": {},
   "source": [
    "# create zero array"
   ]
  },
  {
   "cell_type": "code",
   "execution_count": 25,
   "id": "d5e5209d",
   "metadata": {},
   "outputs": [
    {
     "name": "stdout",
     "output_type": "stream",
     "text": [
      "[0. 0. 0. 0. 0.]\n",
      "[[0. 0. 0. 0. 0.]\n",
      " [0. 0. 0. 0. 0.]\n",
      " [0. 0. 0. 0. 0.]\n",
      " [0. 0. 0. 0. 0.]\n",
      " [0. 0. 0. 0. 0.]]\n"
     ]
    }
   ],
   "source": [
    "zero_array = np.zeros(5) #5 coulmns zero array\n",
    "print(zero_array)\n",
    "zero_array2D = np.zeros([5, 5]) #5 coulmns zero array\n",
    "print(zero_array2D)"
   ]
  },
  {
   "cell_type": "code",
   "execution_count": 26,
   "id": "40905350",
   "metadata": {},
   "outputs": [
    {
     "name": "stdout",
     "output_type": "stream",
     "text": [
      "[1. 1. 1. 1. 1.]\n",
      "[[1. 1. 1. 1. 1.]\n",
      " [1. 1. 1. 1. 1.]\n",
      " [1. 1. 1. 1. 1.]\n",
      " [1. 1. 1. 1. 1.]\n",
      " [1. 1. 1. 1. 1.]]\n"
     ]
    }
   ],
   "source": [
    "#create ones array\n",
    "one_array = np.ones(5) #5 coulmns zero array\n",
    "print(one_array)\n",
    "one_array2D = np.ones([5, 5]) #5 coulmns zero array\n",
    "print(one_array2D)"
   ]
  },
  {
   "cell_type": "code",
   "execution_count": 28,
   "id": "42fea037",
   "metadata": {},
   "outputs": [
    {
     "name": "stdout",
     "output_type": "stream",
     "text": [
      "[1. 1. 1. 1. 1.]\n",
      "[[1. 1. 1. 1. 1.]\n",
      " [1. 1. 1. 1. 1.]\n",
      " [1. 1. 1. 1. 1.]\n",
      " [1. 1. 1. 1. 1.]\n",
      " [1. 1. 1. 1. 1.]]\n"
     ]
    }
   ],
   "source": [
    "#create empty array \n",
    "empty_array = np.empty(5) #5 coulmns zero array\n",
    "print(empty_array)\n",
    "empty_array2D = np.empty([5, 5]) #5 coulmns zero array\n",
    "print(empty_array2D)"
   ]
  },
  {
   "cell_type": "markdown",
   "id": "624ccf3f",
   "metadata": {},
   "source": [
    "# Identity array, diagonal values are 1"
   ]
  },
  {
   "cell_type": "code",
   "execution_count": 30,
   "id": "8187904d",
   "metadata": {},
   "outputs": [
    {
     "name": "stdout",
     "output_type": "stream",
     "text": [
      "[[1. 0. 0.]\n",
      " [0. 1. 0.]\n",
      " [0. 0. 1.]]\n"
     ]
    }
   ],
   "source": [
    "Identity_array = np.eye(3)\n",
    "print(Identity_array)"
   ]
  },
  {
   "cell_type": "markdown",
   "id": "35877fde",
   "metadata": {},
   "source": [
    "# Array creation and initialization function"
   ]
  },
  {
   "cell_type": "code",
   "execution_count": 33,
   "id": "3e1e282a",
   "metadata": {},
   "outputs": [
    {
     "name": "stdout",
     "output_type": "stream",
     "text": [
      "[ 0  2  4  6  8 10 12 14 16 18 20 22 24 26 28 30 32 34 36 38 40 42 44 46\n",
      " 48]\n"
     ]
    }
   ],
   "source": [
    "AP_array = np.arange(0, 50, 2)\n",
    "print(AP_array)"
   ]
  },
  {
   "cell_type": "markdown",
   "id": "78461389",
   "metadata": {},
   "source": [
    "# scalar operation in numpy array"
   ]
  },
  {
   "cell_type": "code",
   "execution_count": 35,
   "id": "95573758",
   "metadata": {},
   "outputs": [
    {
     "name": "stdout",
     "output_type": "stream",
     "text": [
      "[[   1    4    9   16   25]\n",
      " [ 100  400  900 1600 2500]]\n"
     ]
    }
   ],
   "source": [
    "#scalar array multiplication using *\n",
    "myarray2D = np.array([mylist, mylist2])\n",
    "arr2 = myarray2D * myarray2D\n",
    "print(arr2)"
   ]
  },
  {
   "cell_type": "code",
   "execution_count": 36,
   "id": "14f93641",
   "metadata": {},
   "outputs": [
    {
     "name": "stdout",
     "output_type": "stream",
     "text": [
      "[[     1      8     27     64    125]\n",
      " [  1000   8000  27000  64000 125000]]\n"
     ]
    }
   ],
   "source": [
    "#exponential multiplication- suing ** operator\n",
    "arr3 = myarray2D**3\n",
    "print(arr3)"
   ]
  },
  {
   "cell_type": "code",
   "execution_count": 37,
   "id": "05e1d8dc",
   "metadata": {},
   "outputs": [
    {
     "name": "stdout",
     "output_type": "stream",
     "text": [
      "[[     0      4     18     48    100]\n",
      " [   900   7600  26100  62400 122500]]\n"
     ]
    }
   ],
   "source": [
    "#scalar substraction\n",
    "arr4 = arr3-arr2\n",
    "print(arr4)\n"
   ]
  },
  {
   "cell_type": "code",
   "execution_count": 38,
   "id": "3f02ea84",
   "metadata": {},
   "outputs": [
    {
     "name": "stdout",
     "output_type": "stream",
     "text": [
      "[[1.00000000e+00 2.50000000e-01 1.11111111e-01 6.25000000e-02\n",
      "  4.00000000e-02]\n",
      " [1.00000000e-02 2.50000000e-03 1.11111111e-03 6.25000000e-04\n",
      "  4.00000000e-04]]\n"
     ]
    }
   ],
   "source": [
    "#scalar division\n",
    "arr5 = 1/arr2\n",
    "print(arr5)"
   ]
  },
  {
   "cell_type": "markdown",
   "id": "5a7c9aeb",
   "metadata": {},
   "source": [
    "# Numpy array Index"
   ]
  },
  {
   "cell_type": "code",
   "execution_count": 39,
   "id": "5570a6ef",
   "metadata": {},
   "outputs": [
    {
     "name": "stdout",
     "output_type": "stream",
     "text": [
      "[100 102 104 106 108 110 112 114 116 118 120 122 124 126 128 130 132 134\n",
      " 136 138 140 142 144 146 148 150 152 154 156 158]\n"
     ]
    }
   ],
   "source": [
    "import numpy as np\n",
    "arr = np.arange(100, 160, 2)\n",
    "print(arr)"
   ]
  },
  {
   "cell_type": "code",
   "execution_count": 42,
   "id": "f3fa456e",
   "metadata": {},
   "outputs": [
    {
     "name": "stdout",
     "output_type": "stream",
     "text": [
      "100\n"
     ]
    }
   ],
   "source": [
    "#access to individual array elements\n",
    "#first element\n",
    "print(arr[0])"
   ]
  },
  {
   "cell_type": "code",
   "execution_count": 44,
   "id": "db1c0599",
   "metadata": {},
   "outputs": [
    {
     "name": "stdout",
     "output_type": "stream",
     "text": [
      "[100 102 104 106 108]\n"
     ]
    }
   ],
   "source": [
    "#slicing the array\n",
    "print(arr[0:5:1])"
   ]
  },
  {
   "cell_type": "code",
   "execution_count": 45,
   "id": "c05febdd",
   "metadata": {},
   "outputs": [
    {
     "name": "stdout",
     "output_type": "stream",
     "text": [
      "[  0   0   0   0   0 110 112 114 116 118 120 122 124 126 128 130 132 134\n",
      " 136 138 140 142 144 146 148 150 152 154 156 158]\n"
     ]
    }
   ],
   "source": [
    "#updating array using slicing\n",
    "arr[0:5] = 0\n",
    "print(arr)"
   ]
  },
  {
   "cell_type": "code",
   "execution_count": 51,
   "id": "e6bd0fb4",
   "metadata": {},
   "outputs": [
    {
     "name": "stdout",
     "output_type": "stream",
     "text": [
      "[1 1 1 1]\n",
      "[1 1 1 1]\n"
     ]
    }
   ],
   "source": [
    "#creating new array slicing the old one\n",
    "arr_new= arr[4:8]\n",
    "print(arr_new)\n",
    "#replacing the old values\n",
    "arr_new[:] = 1\n",
    "print(arr_new)"
   ]
  },
  {
   "cell_type": "code",
   "execution_count": 52,
   "id": "90f5de71",
   "metadata": {},
   "outputs": [
    {
     "name": "stdout",
     "output_type": "stream",
     "text": [
      "[  0   0   0   0   1   1   1   1 116 118 120 122 124 126 128 130 132 134\n",
      " 136 138 140 142 144 146 148 150 152 154 156 158]\n"
     ]
    }
   ],
   "source": [
    "#after slicing and replacing of the old values will be saved to the old memory allocations for the mothre array\n",
    "print(arr)"
   ]
  },
  {
   "cell_type": "code",
   "execution_count": 54,
   "id": "f678c519",
   "metadata": {},
   "outputs": [
    {
     "name": "stdout",
     "output_type": "stream",
     "text": [
      "[0 0 0 0 0 0 0 0 0 0 0 0 0 0 0 0 0 0 0 0 0 0 0 0 0 0 0 0 0 0]\n",
      "[  0   0   0   0   1   1   1   1 116 118 120 122 124 126 128 130 132 134\n",
      " 136 138 140 142 144 146 148 150 152 154 156 158]\n"
     ]
    }
   ],
   "source": [
    "# copy functtion() to create new numpy memory\n",
    "arr_new2= arr.copy()\n",
    "arr_new2[:] = 0 # all values are zero\n",
    "print(arr_new2)\n",
    "print(arr)"
   ]
  },
  {
   "cell_type": "markdown",
   "id": "186b9ad7",
   "metadata": {},
   "source": [
    "# Array indexes in Multidimensional array"
   ]
  },
  {
   "cell_type": "code",
   "execution_count": 66,
   "id": "d581c2d3",
   "metadata": {},
   "outputs": [
    {
     "name": "stdout",
     "output_type": "stream",
     "text": [
      "[[  1   2   3   4   5]\n",
      " [ 10  20  30  40  50]\n",
      " [100 200 300 400 500]]\n",
      "[1 2 3 4 5]\n",
      "[10 20 30 40 50]\n",
      "3\n"
     ]
    }
   ],
   "source": [
    "#accessing row\n",
    "#accessing the element of the array\n",
    "mylist = [1, 2, 3, 4, 5]\n",
    "mylist2=[10, 20, 30, 40, 50]\n",
    "mylist3=[100, 200, 300, 400, 500]\n",
    "myarray2D = np.array([mylist, mylist2, mylist3])\n",
    "print(myarray2D)\n",
    "print(myarray2D[0])\n",
    "print(myarray2D[1])\n",
    "print(myarray2D[0][2]) #row index, column index"
   ]
  },
  {
   "cell_type": "code",
   "execution_count": 65,
   "id": "cbaf35f3",
   "metadata": {},
   "outputs": [
    {
     "name": "stdout",
     "output_type": "stream",
     "text": [
      "[[1 2]]\n"
     ]
    }
   ],
   "source": [
    "#slicing in 2D arrays\n",
    "slice1= myarray2D[0:1, 0:2] # first row(0), first 2 columns\n",
    "print(slice1)"
   ]
  },
  {
   "cell_type": "code",
   "execution_count": 69,
   "id": "b8fc64bf",
   "metadata": {},
   "outputs": [
    {
     "name": "stdout",
     "output_type": "stream",
     "text": [
      "[[ 1  2  3]\n",
      " [10 20 30]]\n"
     ]
    }
   ],
   "source": [
    "slice2= myarray2D[0:2, 0:3] # first two rows, first 3 columns\n",
    "print(slice2)"
   ]
  },
  {
   "cell_type": "code",
   "execution_count": 71,
   "id": "905a7da8",
   "metadata": {},
   "outputs": [
    {
     "name": "stdout",
     "output_type": "stream",
     "text": [
      "[[ 1  2  3]\n",
      " [10 20 30]]\n"
     ]
    }
   ],
   "source": [
    "slice3 = myarray2D[:2, :3] #print until 2 rows and 3 coulmns \n",
    "print(slice3)"
   ]
  },
  {
   "cell_type": "markdown",
   "id": "c8e31290",
   "metadata": {},
   "source": [
    "# loop the index of array"
   ]
  },
  {
   "cell_type": "code",
   "execution_count": 75,
   "id": "590a2be1",
   "metadata": {},
   "outputs": [
    {
     "name": "stdout",
     "output_type": "stream",
     "text": [
      "(3, 5)\n",
      "3\n"
     ]
    }
   ],
   "source": [
    "arr_len= myarray2D.shape\n",
    "print(arr_len)\n",
    "nrows = arr_len[0]\n",
    "print(nrows)"
   ]
  },
  {
   "cell_type": "code",
   "execution_count": 76,
   "id": "4c99d2a0",
   "metadata": {},
   "outputs": [
    {
     "name": "stdout",
     "output_type": "stream",
     "text": [
      "[[  0   2   3   4   5]\n",
      " [  1  20  30  40  50]\n",
      " [  2 200 300 400 500]]\n"
     ]
    }
   ],
   "source": [
    "for i in range(nrows):\n",
    "    myarray2D[i][0] = i #replacing the first column with index of nrows\n",
    "print(myarray2D)    "
   ]
  },
  {
   "cell_type": "markdown",
   "id": "a2afc5d4",
   "metadata": {},
   "source": [
    "# accessing the rows using index value"
   ]
  },
  {
   "cell_type": "code",
   "execution_count": 80,
   "id": "110f2299",
   "metadata": {},
   "outputs": [
    {
     "name": "stdout",
     "output_type": "stream",
     "text": [
      "[[ 0  2  3  4  5]\n",
      " [ 1 20 30 40 50]]\n"
     ]
    }
   ],
   "source": [
    "print(myarray2D[[0,1]]) # print first two row"
   ]
  },
  {
   "cell_type": "code",
   "execution_count": 82,
   "id": "57d92928",
   "metadata": {},
   "outputs": [
    {
     "name": "stdout",
     "output_type": "stream",
     "text": [
      "[[ 1 20 30 40 50]\n",
      " [ 0  2  3  4  5]]\n"
     ]
    }
   ],
   "source": [
    "print(myarray2D[[1,0]]) # print first two row in reverse"
   ]
  },
  {
   "cell_type": "markdown",
   "id": "399c2677",
   "metadata": {},
   "source": [
    "# Premium  Array operations"
   ]
  },
  {
   "cell_type": "code",
   "execution_count": 91,
   "id": "e34b1fcf",
   "metadata": {},
   "outputs": [
    {
     "name": "stdout",
     "output_type": "stream",
     "text": [
      "[ 0  1  2  3  4  5  6  7  8  9 10 11 12 13 14]\n",
      "[5 6 7 8 9]\n",
      "[5 7 9]\n"
     ]
    }
   ],
   "source": [
    "A=np.arange(15)\n",
    "print(A)\n",
    "B=np.arange(5, 10)\n",
    "print(B)\n",
    "C=np.arange(5, 10, 2)\n",
    "print(C)"
   ]
  },
  {
   "cell_type": "code",
   "execution_count": 88,
   "id": "0fea2084",
   "metadata": {},
   "outputs": [
    {
     "name": "stdout",
     "output_type": "stream",
     "text": [
      "[[ 0.3554935   0.29202367 -1.02299764 -1.03310294 -1.76714807]\n",
      " [-0.17887727  1.40717106 -0.42228007 -1.69242525 -0.72321102]\n",
      " [-1.02116418  0.28000588  0.8088085  -2.34777373 -1.23877517]\n",
      " [ 0.10121865 -0.2771494  -0.32974805 -0.64261193 -0.14172739]\n",
      " [-2.57887881  2.04264003 -2.07549267 -1.08601687 -0.10143377]]\n"
     ]
    }
   ],
   "source": [
    "# functions of numpy\n",
    "#np.sqrt()\n",
    "#np.log()\n",
    "#np.polyfit()\n",
    "#np.exp()\n",
    "#np.add()\n",
    "#np.maximum()\n",
    "#np.minimum\n",
    "\n",
    "#np.random.randn()\n",
    "\n",
    "D = np.random.randn(5, 5)\n",
    "print(D)"
   ]
  },
  {
   "cell_type": "code",
   "execution_count": 93,
   "id": "42afa35b",
   "metadata": {},
   "outputs": [
    {
     "name": "stdout",
     "output_type": "stream",
     "text": [
      "-1.282957842854356\n"
     ]
    }
   ],
   "source": [
    "A = np.random.randn()\n",
    "B = np.random.randn()\n",
    "H = np.maximum(A, B)\n",
    "print(H)"
   ]
  },
  {
   "cell_type": "markdown",
   "id": "8b16733c",
   "metadata": {},
   "source": [
    "# loading and saving arrays"
   ]
  },
  {
   "cell_type": "code",
   "execution_count": 96,
   "id": "d6e3bfd4",
   "metadata": {},
   "outputs": [
    {
     "name": "stdout",
     "output_type": "stream",
     "text": [
      "[ 0  1  2  3  4  5  6  7  8  9 10 11 12 13 14 15 16 17 18 19 20 21 22 23\n",
      " 24 25 26 27 28 29 30 31 32 33 34 35 36 37 38 39 40 41 42 43 44 45 46 47\n",
      " 48 49 50 51 52 53 54 55 56 57 58 59 60 61 62 63 64 65 66 67 68 69 70 71\n",
      " 72 73 74 75 76 77 78 79 80 81 82 83 84 85 86 87 88 89 90 91 92 93 94 95\n",
      " 96 97 98 99]\n"
     ]
    }
   ],
   "source": [
    "import numpy as np\n",
    "arr = np.arange(100)\n",
    "print(arr)"
   ]
  },
  {
   "cell_type": "code",
   "execution_count": 97,
   "id": "3e8b18f1",
   "metadata": {},
   "outputs": [],
   "source": [
    "#saving single array\n",
    "np.save(\"Saved_array\", arr)"
   ]
  },
  {
   "cell_type": "code",
   "execution_count": 98,
   "id": "74e2a46c",
   "metadata": {},
   "outputs": [
    {
     "name": "stdout",
     "output_type": "stream",
     "text": [
      "[ 0  1  2  3  4  5  6  7  8  9 10 11 12 13 14 15 16 17 18 19 20 21 22 23\n",
      " 24 25 26 27 28 29 30 31 32 33 34 35 36 37 38 39 40 41 42 43 44 45 46 47\n",
      " 48 49 50 51 52 53 54 55 56 57 58 59 60 61 62 63 64 65 66 67 68 69 70 71\n",
      " 72 73 74 75 76 77 78 79 80 81 82 83 84 85 86 87 88 89 90 91 92 93 94 95\n",
      " 96 97 98 99]\n"
     ]
    }
   ],
   "source": [
    "#loading single array\n",
    "load_array1 = np.load(\"saved_array.npy\")\n",
    "print(load_array1)"
   ]
  },
  {
   "cell_type": "code",
   "execution_count": 102,
   "id": "f2925963",
   "metadata": {},
   "outputs": [
    {
     "name": "stdout",
     "output_type": "stream",
     "text": [
      "[  0   1   2   3   4   5   6   7   8   9  10  11  12  13  14  15  16  17\n",
      "  18  19  20  21  22  23  24  25  26  27  28  29  30  31  32  33  34  35\n",
      "  36  37  38  39  40  41  42  43  44  45  46  47  48  49  50  51  52  53\n",
      "  54  55  56  57  58  59  60  61  62  63  64  65  66  67  68  69  70  71\n",
      "  72  73  74  75  76  77  78  79  80  81  82  83  84  85  86  87  88  89\n",
      "  90  91  92  93  94  95  96  97  98  99 100 101 102 103 104 105 106 107\n",
      " 108 109 110 111 112 113 114 115 116 117 118 119 120 121 122 123 124 125\n",
      " 126 127 128 129 130 131 132 133 134 135 136 137 138 139 140 141 142 143\n",
      " 144 145 146 147 148 149 150 151 152 153 154 155 156 157 158 159 160 161\n",
      " 162 163 164 165 166 167 168 169 170 171 172 173 174 175 176 177 178 179\n",
      " 180 181 182 183 184 185 186 187 188 189 190 191 192 193 194 195 196 197\n",
      " 198 199]\n",
      "[ 0  1  2  3  4  5  6  7  8  9 10 11 12 13 14 15 16 17 18 19 20 21 22 23\n",
      " 24]\n"
     ]
    }
   ],
   "source": [
    "#saving multiple array\n",
    "arr1 = np.arange(200)\n",
    "arr2 = np.arange(25)\n",
    "\n",
    "np.savez(\"saved_archieve.npz\", x=arr1, y=arr2)\n",
    "\n",
    "#loading the array\n",
    "\n",
    "load_npz=np.load(\"saved_archieve.npz\")\n",
    "print(load_npz[\"x\"])\n",
    "print(load_npz[\"y\"])"
   ]
  },
  {
   "cell_type": "code",
   "execution_count": 109,
   "id": "3a854b17",
   "metadata": {},
   "outputs": [
    {
     "name": "stdout",
     "output_type": "stream",
     "text": [
      "[ 0.  1.  2.  3.  4.  5.  6.  7.  8.  9. 10. 11. 12. 13. 14. 15. 16. 17.\n",
      " 18. 19. 20. 21. 22. 23. 24.]\n"
     ]
    }
   ],
   "source": [
    "#saving array to text file and loading\n",
    "arr2 = np.arange(25)\n",
    "np.savetxt(\"myarray.csv\", arr2,delimiter=',')\n",
    "load_file = np.loadtxt(\"myarray.csv\", delimiter=',')\n",
    "print(load_file)"
   ]
  },
  {
   "cell_type": "markdown",
   "id": "ced1ef12",
   "metadata": {},
   "source": [
    "# Conditional Clause"
   ]
  },
  {
   "cell_type": "code",
   "execution_count": 111,
   "id": "974b91a4",
   "metadata": {},
   "outputs": [
    {
     "name": "stdout",
     "output_type": "stream",
     "text": [
      "[100, 400, 20, 25]\n"
     ]
    }
   ],
   "source": [
    "x = np.array([100, 400, -50, -40])\n",
    "y = np.array([10, 15, 20, 25])\n",
    "condition = np.array([True, True, False, False])\n",
    "z = [a if cond else b for a,cond,b in zip(x, condition, y)]\n",
    "print(z)"
   ]
  },
  {
   "cell_type": "code",
   "execution_count": 114,
   "id": "e45edcc4",
   "metadata": {},
   "outputs": [
    {
     "name": "stdout",
     "output_type": "stream",
     "text": [
      "[100 400  20  25]\n",
      "[  1   1 -50 -40]\n"
     ]
    }
   ],
   "source": [
    "#using np.where()---(condition, values for true, values for false)\n",
    "z2 = np.where(condition, x, y)\n",
    "print(z2)\n",
    "\n",
    "z3 = np.where(x>0, 1, x) #(if x>0 then take value 1 else take the value of x)\n",
    "print(z3)"
   ]
  },
  {
   "cell_type": "code",
   "execution_count": 120,
   "id": "75267815",
   "metadata": {},
   "outputs": [
    {
     "name": "stdout",
     "output_type": "stream",
     "text": [
      "410\n",
      "102.5\n",
      "181.71062159378576\n"
     ]
    }
   ],
   "source": [
    "#standard function\n",
    "print(x.sum())\n",
    "print(x.mean())\n",
    "print(x.std())\n"
   ]
  },
  {
   "cell_type": "code",
   "execution_count": 118,
   "id": "ac41dcac",
   "metadata": {},
   "outputs": [
    {
     "name": "stdout",
     "output_type": "stream",
     "text": [
      "[[2 3]\n",
      " [4 5]]\n"
     ]
    }
   ],
   "source": [
    "x2 = np.array([[2,3], [4,5]])\n",
    "print(x2)"
   ]
  },
  {
   "cell_type": "code",
   "execution_count": 119,
   "id": "d40450b9",
   "metadata": {},
   "outputs": [
    {
     "name": "stdout",
     "output_type": "stream",
     "text": [
      "[6 8]\n"
     ]
    }
   ],
   "source": [
    "print(x2.sum(0)) # sum of the rows for two coulmns"
   ]
  },
  {
   "cell_type": "markdown",
   "id": "96acc4bb",
   "metadata": {},
   "source": [
    "# Logical Operation"
   ]
  },
  {
   "cell_type": "code",
   "execution_count": 121,
   "id": "bd845636",
   "metadata": {},
   "outputs": [
    {
     "name": "stdout",
     "output_type": "stream",
     "text": [
      "True\n",
      "False\n"
     ]
    }
   ],
   "source": [
    "condition2 = np.array([True, False, True, False])\n",
    "\n",
    "#OR\n",
    "print(condition2.any())\n",
    "\n",
    "#And\n",
    "print(condition2.all())\n",
    "\n"
   ]
  },
  {
   "cell_type": "markdown",
   "id": "34c9dbac",
   "metadata": {},
   "source": [
    "# SORTING"
   ]
  },
  {
   "cell_type": "code",
   "execution_count": 126,
   "id": "47780d07",
   "metadata": {},
   "outputs": [
    {
     "name": "stdout",
     "output_type": "stream",
     "text": [
      "[ 1  3  4  6  7 10]\n",
      "['gas' 'liquid' 'solid']\n"
     ]
    }
   ],
   "source": [
    "unsorted = np.array([1, 4, 7, 10, 6, 3])\n",
    "unsorted.sort()\n",
    "print(unsorted)\n",
    "\n",
    "#unique()\n",
    "arr7=np.array(['liquid', 'gas', 'gas', 'solid'])\n",
    "print(np.unique(arr7))"
   ]
  },
  {
   "cell_type": "code",
   "execution_count": 128,
   "id": "3a250bfa",
   "metadata": {},
   "outputs": [
    {
     "name": "stdout",
     "output_type": "stream",
     "text": [
      "[ True  True False]\n"
     ]
    }
   ],
   "source": [
    "#check the content of array\n",
    "\n",
    "print(np.in1d(['solid', 'gas', 'plasma'], arr7))"
   ]
  },
  {
   "cell_type": "code",
   "execution_count": null,
   "id": "6934a0e4",
   "metadata": {},
   "outputs": [],
   "source": []
  }
 ],
 "metadata": {
  "kernelspec": {
   "display_name": "Python 3 (ipykernel)",
   "language": "python",
   "name": "python3"
  },
  "language_info": {
   "codemirror_mode": {
    "name": "ipython",
    "version": 3
   },
   "file_extension": ".py",
   "mimetype": "text/x-python",
   "name": "python",
   "nbconvert_exporter": "python",
   "pygments_lexer": "ipython3",
   "version": "3.7.12"
  }
 },
 "nbformat": 4,
 "nbformat_minor": 5
}
